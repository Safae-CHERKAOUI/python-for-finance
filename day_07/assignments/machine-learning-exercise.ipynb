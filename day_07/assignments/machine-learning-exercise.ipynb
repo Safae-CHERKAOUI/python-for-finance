{
 "cells": [
  {
   "cell_type": "markdown",
   "metadata": {
    "_uuid": "add8afd2a160f5a560366166d50654aea11c6e9c"
   },
   "source": [
    "# Exercises\n",
    "\n",
    "## Regression\n",
    "\n",
    "* [Linear Regression](#1.)\n",
    "* [Support Vector Regression](#2.)\n",
    "\n",
    "\n",
    "## Classification\n",
    "\n",
    "* [K-Nearest Neighbour (KNN) Classification](#3.)\n",
    "* [Support Vector Machine (SVM) Classification](#4.)\n",
    "\n",
    "\n",
    "## Clustering\n",
    "\n",
    "* [K-Means Clustering](#5.)\n",
    "\n",
    "\n",
    "## Other Content\n",
    "\n",
    "* [Principal Component Analysis (PCA)](#6.)"
   ]
  },
  {
   "cell_type": "markdown",
   "metadata": {
    "_uuid": "d2a2b8741de2060d6c0a4126cd764a5b7514d0ef"
   },
   "source": [
    "# Exercise 1: Regression\n",
    "<a class=\"anchor\" id=\"1.\"></a> \n",
    "## Linear Regression"
   ]
  },
  {
   "cell_type": "code",
   "execution_count": 2,
   "metadata": {
    "_cell_guid": "b1076dfc-b9ad-4769-8c92-a6c4dae69d19",
    "_uuid": "8f2839f25d086af736a60e9eeb907d3b93b6e0e5",
    "jupyter": {
     "outputs_hidden": true
    },
    "scrolled": true
   },
   "outputs": [],
   "source": [
    "import pandas as pd \n",
    "import matplotlib.pyplot as plt"
   ]
  },
  {
   "cell_type": "code",
   "execution_count": 3,
   "metadata": {},
   "outputs": [],
   "source": [
    "data= pd.read_csv('C:\\\\Users\\\\media\\\\Desktop\\\\python-for-finance\\\\python-for-finance\\\\day_07\\\\data\\\\linear-regression-dataset.csv')"
   ]
  },
  {
   "cell_type": "markdown",
   "metadata": {},
   "source": [
    "### 1. Print info and first 5 rows"
   ]
  },
  {
   "cell_type": "markdown",
   "metadata": {},
   "source": [
    "- Expected output:\n",
    "```python\n",
    ">>> <class 'pandas.core.frame.DataFrame'>\n",
    ">>> RangeIndex: 14 entries, 0 to 13\n",
    ">>> Data columns (total 2 columns):\n",
    ">>>  #   Column   Non-Null Count  Dtype  \n",
    ">>> ---  ------   --------------  -----  \n",
    ">>> 0   experience  14 non-null     float64\n",
    ">>> 1   salary      14 non-null     int64  \n",
    ">>> dtypes: float64(1), int64(1)\n",
    ">>> memory usage: 352.0 bytes\n",
    ">>> None\n",
    ">>>   experience  salary\n",
    ">>> 0      0.5  2500\n",
    ">>> 1      0.0  2250\n",
    ">>> 2      1.0  2750\n",
    ">>> 3      5.0  8000\n",
    ">>> 4      8.0  9000\n",
    "```"
   ]
  },
  {
   "cell_type": "code",
   "execution_count": 4,
   "metadata": {},
   "outputs": [
    {
     "name": "stdout",
     "output_type": "stream",
     "text": [
      "<class 'pandas.core.frame.DataFrame'>\n",
      "RangeIndex: 14 entries, 0 to 13\n",
      "Data columns (total 2 columns):\n",
      " #   Column      Non-Null Count  Dtype  \n",
      "---  ------      --------------  -----  \n",
      " 0   experience  14 non-null     float64\n",
      " 1   salary      14 non-null     int64  \n",
      "dtypes: float64(1), int64(1)\n",
      "memory usage: 352.0 bytes\n"
     ]
    },
    {
     "data": {
      "text/html": [
       "<div>\n",
       "<style scoped>\n",
       "    .dataframe tbody tr th:only-of-type {\n",
       "        vertical-align: middle;\n",
       "    }\n",
       "\n",
       "    .dataframe tbody tr th {\n",
       "        vertical-align: top;\n",
       "    }\n",
       "\n",
       "    .dataframe thead th {\n",
       "        text-align: right;\n",
       "    }\n",
       "</style>\n",
       "<table border=\"1\" class=\"dataframe\">\n",
       "  <thead>\n",
       "    <tr style=\"text-align: right;\">\n",
       "      <th></th>\n",
       "      <th>experience</th>\n",
       "      <th>salary</th>\n",
       "    </tr>\n",
       "  </thead>\n",
       "  <tbody>\n",
       "    <tr>\n",
       "      <th>0</th>\n",
       "      <td>0.5</td>\n",
       "      <td>2500</td>\n",
       "    </tr>\n",
       "    <tr>\n",
       "      <th>1</th>\n",
       "      <td>0.0</td>\n",
       "      <td>2250</td>\n",
       "    </tr>\n",
       "    <tr>\n",
       "      <th>2</th>\n",
       "      <td>1.0</td>\n",
       "      <td>2750</td>\n",
       "    </tr>\n",
       "    <tr>\n",
       "      <th>3</th>\n",
       "      <td>5.0</td>\n",
       "      <td>8000</td>\n",
       "    </tr>\n",
       "    <tr>\n",
       "      <th>4</th>\n",
       "      <td>8.0</td>\n",
       "      <td>9000</td>\n",
       "    </tr>\n",
       "  </tbody>\n",
       "</table>\n",
       "</div>"
      ],
      "text/plain": [
       "   experience  salary\n",
       "0         0.5    2500\n",
       "1         0.0    2250\n",
       "2         1.0    2750\n",
       "3         5.0    8000\n",
       "4         8.0    9000"
      ]
     },
     "execution_count": 4,
     "metadata": {},
     "output_type": "execute_result"
    }
   ],
   "source": [
    "data.info()\n",
    "data.head(5)"
   ]
  },
  {
   "cell_type": "markdown",
   "metadata": {
    "_uuid": "f5762dd847253d7c3c994e8dddcfd61678db7b96",
    "collapsed": true,
    "jupyter": {
     "outputs_hidden": true
    }
   },
   "source": [
    "### 2. Plot deneyim data\n",
    "\n",
    "- Expected output:\n",
    "![experience1](../data/experience1.png)"
   ]
  },
  {
   "cell_type": "code",
   "execution_count": 5,
   "metadata": {},
   "outputs": [
    {
     "name": "stderr",
     "output_type": "stream",
     "text": [
      "C:\\Users\\media\\AppData\\Local\\Temp/ipykernel_27168/2681073929.py:1: UserWarning: color is redundantly defined by the 'color' keyword argument and the fmt string \"ro\" (-> color='r'). The keyword argument will take precedence.\n",
      "  plt.plot(data['experience'],data['salary'],\"ro\",color='b')\n"
     ]
    },
    {
     "data": {
      "image/png": "[encoded data removed]",
      "text/plain": [
       "<Figure size 432x288 with 1 Axes>"
      ]
     },
     "metadata": {
      "needs_background": "light"
     },
     "output_type": "display_data"
    }
   ],
   "source": [
    "plt.plot(data['experience'],data['salary'],\"ro\",color='b')\n",
    "plt.xlabel='experience'\n",
    "plt.ylabel='salary'\n",
    "plt.show()"
   ]
  },
  {
   "cell_type": "markdown",
   "metadata": {},
   "source": [
    "### 3. Compute the score and correlation using the `LinearRegression` model\n",
    "\n",
    "- Expected output:\n",
    "\n",
    "```Python\n",
    ">>> R sq:  0.9775283164949902\n",
    ">>> Correlation:  0.9887003168275967\n",
    "```"
   ]
  },
  {
   "cell_type": "code",
   "execution_count": 56,
   "metadata": {},
   "outputs": [
    {
     "name": "stdout",
     "output_type": "stream",
     "text": [
      "coefficient of determination: 0.9775283164949902\n",
      "            experience  salary\n",
      "experience      1.0000  0.9887\n",
      "salary          0.9887  1.0000\n"
     ]
    }
   ],
   "source": [
    "import sklearn\n",
    "import numpy as np\n",
    "from sklearn.linear_model import LinearRegression\n",
    "model = LinearRegression()\n",
    "x = np.array(data['experience']).reshape((-1, 1))\n",
    "y = np.array(data['salary'])\n",
    "model.fit(x,y)\n",
    "model = LinearRegression().fit(x,y)\n",
    "\n",
    "r_sq = model.score(x,y)\n",
    "print('coefficient of determination:', r_sq)\n",
    "\n",
    "corr= data.corr()\n",
    "print(corr)"
   ]
  },
  {
   "cell_type": "markdown",
   "metadata": {},
   "source": [
    "### 4. Predict the result of x = 11\n",
    "- Expected output:\n",
    "\n",
    "```Python\n",
    ">>> Coefficient for X:  [[1138.34819698]]\n",
    ">>> Intercept for X:  [1663.89519747]\n",
    ">>> Regression line is: y = 1663.895197474103 + (x * 1138.3481969755721)\n",
    ">>> Value of y is: 14181\n",
    ">>> The predicted value y is: [[14185.72536421]]\n",
    "```"
   ]
  },
  {
   "cell_type": "code",
   "execution_count": 45,
   "metadata": {},
   "outputs": [],
   "source": [
    "def y(x):\n",
    "    return model.intercept_+((x[0])[0])*model.coef_[0]"
   ]
  },
  {
   "cell_type": "code",
   "execution_count": 46,
   "metadata": {},
   "outputs": [
    {
     "name": "stdout",
     "output_type": "stream",
     "text": [
      "Coefficients: \n",
      " [1138.34819698]\n",
      "intercept: 1663.895197474103\n",
      "y= 1663.895197474103 +x* 1138.3481969755721\n",
      "Y= 14185.725364205397\n",
      "predicted value is :\n",
      "[14185.72536421]\n"
     ]
    }
   ],
   "source": [
    "x=[[11]]\n",
    "print('Coefficients: \\n', model.coef_)\n",
    "print('intercept:', model.intercept_)\n",
    "print('y=',model.intercept_,'+x*',model.coef_[0])\n",
    "print('y=',y(x))\n",
    "y_pred = model.predict(x)\n",
    "print('predicted value is :', y_pred, sep='\\n')"
   ]
  },
  {
   "cell_type": "markdown",
   "metadata": {
    "_uuid": "1959e6380288a6c7dbc07e8fb0b68d2659eb6b25",
    "collapsed": true,
    "jupyter": {
     "outputs_hidden": true
    }
   },
   "source": [
    "### 5. Plot both y_head (predicted values) and deneyim data\n",
    "- Input:\n",
    "```python\n",
    ">>> # visualize line\n",
    ">>> array = np.array([0,1,2,3,4,5,6,7,8,9,10,11,12,13,14,15]).reshape(-1,1)  # deneyim\n",
    "```\n",
    "\n",
    "- Expected output:\n",
    "    \n",
    "![experience2](../data/experience2.png)"
   ]
  },
  {
   "cell_type": "code",
   "execution_count": 70,
   "metadata": {},
   "outputs": [
    {
     "name": "stderr",
     "output_type": "stream",
     "text": [
      "C:\\Users\\media\\AppData\\Local\\Temp/ipykernel_27168/2978906505.py:4: UserWarning: color is redundantly defined by the 'color' keyword argument and the fmt string \"ro\" (-> color='r'). The keyword argument will take precedence.\n",
      "  plt.plot(data['experience'],data['salary'],\"ro\",color='b')\n"
     ]
    },
    {
     "data": {
      "image/png": "[encoded data removed]",
      "text/plain": [
       "<Figure size 432x288 with 1 Axes>"
      ]
     },
     "metadata": {
      "needs_background": "light"
     },
     "output_type": "display_data"
    }
   ],
   "source": [
    "\n",
    "x = np.array(data['experience']).reshape((-1, 1))\n",
    "y = np.array(data['salary'])\n",
    "plt.plot(data['experience'],data['salary'],\"ro\",color='b')\n",
    "regressor =LinearRegression()\n",
    "regressor.fit(x,y)\n",
    "y_pred=regressor.predict(x)\n",
    "plt.plot(x,y_pred,color='red')\n",
    "plt.show()\n"
   ]
  },
  {
   "cell_type": "markdown",
   "metadata": {},
   "source": [
    "### 6. Predict values of deneyim input data and compute the r square score using `r2_score()` function\n",
    "\n",
    "- Expected output:\n",
    "```python\n",
    ">>> r_square score:  0.9775283164949902\n",
    "```"
   ]
  },
  {
   "cell_type": "code",
   "execution_count": 75,
   "metadata": {},
   "outputs": [
    {
     "name": "stdout",
     "output_type": "stream",
     "text": [
      "0.9775283164949902\n"
     ]
    }
   ],
   "source": [
    "from sklearn.metrics import r2_score\n",
    "print(r2_score(y,y_pred))"
   ]
  },
  {
   "cell_type": "markdown",
   "metadata": {
    "_uuid": "08cd67c6bbb6cba9e4b155e42da9426fa9d7e3c3"
   },
   "source": [
    "\n",
    "<a class=\"anchor\" id=\"2.\"></a> \n",
    "# Support Vector Regression"
   ]
  },
  {
   "cell_type": "code",
   "execution_count": 76,
   "metadata": {
    "_cell_guid": "b1076dfc-b9ad-4769-8c92-a6c4dae69d19",
    "_uuid": "8f2839f25d086af736a60e9eeb907d3b93b6e0e5",
    "jupyter": {
     "outputs_hidden": true
    },
    "scrolled": true
   },
   "outputs": [],
   "source": [
    "import numpy as np\n",
    "import matplotlib.pyplot as plt\n",
    "from sklearn import svm"
   ]
  },
  {
   "cell_type": "code",
   "execution_count": 77,
   "metadata": {},
   "outputs": [],
   "source": [
    "data= pd.read_csv('C:\\\\Users\\\\media\\\\Desktop\\\\python-for-finance\\\\python-for-finance\\\\day_07\\\\data\\\\salary.csv')"
   ]
  },
  {
   "cell_type": "markdown",
   "metadata": {},
   "source": [
    "### 1. Print info and first 5 rows"
   ]
  },
  {
   "cell_type": "code",
   "execution_count": 78,
   "metadata": {
    "_uuid": "9dafc0d1bb2f3cad0122eab45490d4d12a29c3e1",
    "jupyter": {
     "outputs_hidden": true
    }
   },
   "outputs": [
    {
     "name": "stdout",
     "output_type": "stream",
     "text": [
      "<class 'pandas.core.frame.DataFrame'>\n",
      "RangeIndex: 10 entries, 0 to 9\n",
      "Data columns (total 3 columns):\n",
      " #   Column           Non-Null Count  Dtype \n",
      "---  ------           --------------  ----- \n",
      " 0   title            10 non-null     object\n",
      " 1   Education level  10 non-null     int64 \n",
      " 2   salary           10 non-null     int64 \n",
      "dtypes: int64(2), object(1)\n",
      "memory usage: 368.0+ bytes\n"
     ]
    },
    {
     "data": {
      "text/html": [
       "<div>\n",
       "<style scoped>\n",
       "    .dataframe tbody tr th:only-of-type {\n",
       "        vertical-align: middle;\n",
       "    }\n",
       "\n",
       "    .dataframe tbody tr th {\n",
       "        vertical-align: top;\n",
       "    }\n",
       "\n",
       "    .dataframe thead th {\n",
       "        text-align: right;\n",
       "    }\n",
       "</style>\n",
       "<table border=\"1\" class=\"dataframe\">\n",
       "  <thead>\n",
       "    <tr style=\"text-align: right;\">\n",
       "      <th></th>\n",
       "      <th>title</th>\n",
       "      <th>Education level</th>\n",
       "      <th>salary</th>\n",
       "    </tr>\n",
       "  </thead>\n",
       "  <tbody>\n",
       "    <tr>\n",
       "      <th>0</th>\n",
       "      <td>Cayci</td>\n",
       "      <td>1</td>\n",
       "      <td>2250</td>\n",
       "    </tr>\n",
       "    <tr>\n",
       "      <th>1</th>\n",
       "      <td>Secretary</td>\n",
       "      <td>2</td>\n",
       "      <td>2500</td>\n",
       "    </tr>\n",
       "    <tr>\n",
       "      <th>2</th>\n",
       "      <td>Assistant Specialist</td>\n",
       "      <td>3</td>\n",
       "      <td>3000</td>\n",
       "    </tr>\n",
       "    <tr>\n",
       "      <th>3</th>\n",
       "      <td>Expert</td>\n",
       "      <td>4</td>\n",
       "      <td>4000</td>\n",
       "    </tr>\n",
       "    <tr>\n",
       "      <th>4</th>\n",
       "      <td>Project manager</td>\n",
       "      <td>5</td>\n",
       "      <td>5500</td>\n",
       "    </tr>\n",
       "  </tbody>\n",
       "</table>\n",
       "</div>"
      ],
      "text/plain": [
       "                  title  Education level  salary\n",
       "0                 Cayci                1    2250\n",
       "1             Secretary                2    2500\n",
       "2  Assistant Specialist                3    3000\n",
       "3                Expert                4    4000\n",
       "4       Project manager                5    5500"
      ]
     },
     "execution_count": 78,
     "metadata": {},
     "output_type": "execute_result"
    }
   ],
   "source": [
    "data.info()\n",
    "data.head(5)"
   ]
  },
  {
   "cell_type": "markdown",
   "metadata": {},
   "source": [
    "### 2.  Plot the salary over the education level\n",
    "\n",
    "- Expected output:\n",
    "\n",
    "![salary1](../data/salary1.png)"
   ]
  },
  {
   "cell_type": "code",
   "execution_count": 81,
   "metadata": {},
   "outputs": [
    {
     "name": "stderr",
     "output_type": "stream",
     "text": [
      "C:\\Users\\media\\AppData\\Local\\Temp/ipykernel_27168/2231434185.py:1: UserWarning: color is redundantly defined by the 'color' keyword argument and the fmt string \"ro\" (-> color='r'). The keyword argument will take precedence.\n",
      "  plt.plot(data['Education level'],data['salary'],\"ro\",color='b')\n"
     ]
    },
    {
     "data": {
      "image/png": "[encoded data removed]",
      "text/plain": [
       "<Figure size 432x288 with 1 Axes>"
      ]
     },
     "metadata": {
      "needs_background": "light"
     },
     "output_type": "display_data"
    }
   ],
   "source": [
    "plt.plot(data['Education level'],data['salary'],\"ro\",color='b')\n",
    "plt.xlabel='Educational level'\n",
    "plt.ylabel='Salary'\n",
    "plt.show()"
   ]
  },
  {
   "cell_type": "markdown",
   "metadata": {},
   "source": [
    "### 3. Compute the score using `SVR` model (rbf as kernel), and plot the predicted values\n",
    "\n",
    "- Expected output:\n",
    "\n",
    "![salary1](../data/salary2.png)\n",
    "\n",
    "```python\n",
    ">>> R sq:  0.7513836788854973\n",
    "```"
   ]
  },
  {
   "cell_type": "code",
   "execution_count": null,
   "metadata": {},
   "outputs": [],
   "source": []
  },
  {
   "cell_type": "markdown",
   "metadata": {
    "_uuid": "4a81372f8e54f250309f93c62211c858e2894971"
   },
   "source": [
    "# Classification\n",
    "<a class=\"anchor\" id=\"3.\"></a> \n",
    "# K-Nearest Neighbour (KNN) Classification"
   ]
  },
  {
   "cell_type": "code",
   "execution_count": 15,
   "metadata": {
    "_cell_guid": "b1076dfc-b9ad-4769-8c92-a6c4dae69d19",
    "_uuid": "8f2839f25d086af736a60e9eeb907d3b93b6e0e5",
    "jupyter": {
     "outputs_hidden": true
    },
    "scrolled": true
   },
   "outputs": [],
   "source": [
    "# import library"
   ]
  },
  {
   "cell_type": "code",
   "execution_count": 16,
   "metadata": {},
   "outputs": [],
   "source": [
    "# import data data-classification.csv"
   ]
  },
  {
   "cell_type": "markdown",
   "metadata": {},
   "source": [
    "### 1. Drop the `id` and `Unnamed: 32` columns "
   ]
  },
  {
   "cell_type": "code",
   "execution_count": 17,
   "metadata": {},
   "outputs": [],
   "source": [
    "# Your code here"
   ]
  },
  {
   "cell_type": "markdown",
   "metadata": {},
   "source": [
    "### 2. Plot `texture_mean` over `radius_mean` for both benign and malignant diagnosis\n",
    "\n",
    "- Expected output:\n",
    "![radius](../data/radius.png)"
   ]
  },
  {
   "cell_type": "code",
   "execution_count": 18,
   "metadata": {},
   "outputs": [],
   "source": [
    "# Your code here"
   ]
  },
  {
   "cell_type": "markdown",
   "metadata": {},
   "source": [
    "### 3. Comment the code below\n",
    "\n",
    "> Your answer here\n"
   ]
  },
  {
   "cell_type": "code",
   "execution_count": 19,
   "metadata": {
    "_uuid": "9788627d6183021abe455b2c620c41f2d8ba8143",
    "jupyter": {
     "outputs_hidden": true
    }
   },
   "outputs": [
    {
     "ename": "AttributeError",
     "evalue": "'DataFrame' object has no attribute 'diagnosis'",
     "output_type": "error",
     "traceback": [
      "\u001b[1;31m---------------------------------------------------------------------------\u001b[0m",
      "\u001b[1;31mAttributeError\u001b[0m                            Traceback (most recent call last)",
      "\u001b[1;32m~\\AppData\\Local\\Temp/ipykernel_27168/666857949.py\u001b[0m in \u001b[0;36m<module>\u001b[1;34m\u001b[0m\n\u001b[0;32m      1\u001b[0m \u001b[1;31m# %%\u001b[0m\u001b[1;33m\u001b[0m\u001b[1;33m\u001b[0m\u001b[1;33m\u001b[0m\u001b[0m\n\u001b[1;32m----> 2\u001b[1;33m \u001b[0mdata\u001b[0m\u001b[1;33m.\u001b[0m\u001b[0mdiagnosis\u001b[0m \u001b[1;33m=\u001b[0m \u001b[1;33m[\u001b[0m\u001b[1;36m1\u001b[0m \u001b[1;32mif\u001b[0m \u001b[0meach\u001b[0m \u001b[1;33m==\u001b[0m \u001b[1;34m\"M\"\u001b[0m \u001b[1;32melse\u001b[0m \u001b[1;36m0\u001b[0m \u001b[1;32mfor\u001b[0m \u001b[0meach\u001b[0m \u001b[1;32min\u001b[0m \u001b[0mdata\u001b[0m\u001b[1;33m.\u001b[0m\u001b[0mdiagnosis\u001b[0m\u001b[1;33m]\u001b[0m\u001b[1;33m\u001b[0m\u001b[1;33m\u001b[0m\u001b[0m\n\u001b[0m\u001b[0;32m      3\u001b[0m \u001b[0my\u001b[0m \u001b[1;33m=\u001b[0m \u001b[0mdata\u001b[0m\u001b[1;33m.\u001b[0m\u001b[0mdiagnosis\u001b[0m\u001b[1;33m.\u001b[0m\u001b[0mvalues\u001b[0m\u001b[1;33m\u001b[0m\u001b[1;33m\u001b[0m\u001b[0m\n\u001b[0;32m      4\u001b[0m \u001b[0mx_data\u001b[0m \u001b[1;33m=\u001b[0m \u001b[0mdata\u001b[0m\u001b[1;33m.\u001b[0m\u001b[0mdrop\u001b[0m\u001b[1;33m(\u001b[0m\u001b[1;33m[\u001b[0m\u001b[1;34m\"diagnosis\"\u001b[0m\u001b[1;33m]\u001b[0m\u001b[1;33m,\u001b[0m\u001b[0maxis\u001b[0m\u001b[1;33m=\u001b[0m\u001b[1;36m1\u001b[0m\u001b[1;33m)\u001b[0m\u001b[1;33m\u001b[0m\u001b[1;33m\u001b[0m\u001b[0m\n\u001b[0;32m      5\u001b[0m \u001b[1;31m# %%\u001b[0m\u001b[1;33m\u001b[0m\u001b[1;33m\u001b[0m\u001b[1;33m\u001b[0m\u001b[0m\n",
      "\u001b[1;32m~\\AppData\\Local\\Programs\\Python\\Python39\\lib\\site-packages\\pandas\\core\\generic.py\u001b[0m in \u001b[0;36m__getattr__\u001b[1;34m(self, name)\u001b[0m\n\u001b[0;32m   5485\u001b[0m         ):\n\u001b[0;32m   5486\u001b[0m             \u001b[1;32mreturn\u001b[0m \u001b[0mself\u001b[0m\u001b[1;33m[\u001b[0m\u001b[0mname\u001b[0m\u001b[1;33m]\u001b[0m\u001b[1;33m\u001b[0m\u001b[1;33m\u001b[0m\u001b[0m\n\u001b[1;32m-> 5487\u001b[1;33m         \u001b[1;32mreturn\u001b[0m \u001b[0mobject\u001b[0m\u001b[1;33m.\u001b[0m\u001b[0m__getattribute__\u001b[0m\u001b[1;33m(\u001b[0m\u001b[0mself\u001b[0m\u001b[1;33m,\u001b[0m \u001b[0mname\u001b[0m\u001b[1;33m)\u001b[0m\u001b[1;33m\u001b[0m\u001b[1;33m\u001b[0m\u001b[0m\n\u001b[0m\u001b[0;32m   5488\u001b[0m \u001b[1;33m\u001b[0m\u001b[0m\n\u001b[0;32m   5489\u001b[0m     \u001b[1;32mdef\u001b[0m \u001b[0m__setattr__\u001b[0m\u001b[1;33m(\u001b[0m\u001b[0mself\u001b[0m\u001b[1;33m,\u001b[0m \u001b[0mname\u001b[0m\u001b[1;33m:\u001b[0m \u001b[0mstr\u001b[0m\u001b[1;33m,\u001b[0m \u001b[0mvalue\u001b[0m\u001b[1;33m)\u001b[0m \u001b[1;33m->\u001b[0m \u001b[1;32mNone\u001b[0m\u001b[1;33m:\u001b[0m\u001b[1;33m\u001b[0m\u001b[1;33m\u001b[0m\u001b[0m\n",
      "\u001b[1;31mAttributeError\u001b[0m: 'DataFrame' object has no attribute 'diagnosis'"
     ]
    }
   ],
   "source": [
    "# %%\n",
    "data.diagnosis = [1 if each == \"M\" else 0 for each in data.diagnosis]\n",
    "y = data.diagnosis.values\n",
    "x_data = data.drop([\"diagnosis\"],axis=1)\n",
    "# %%\n",
    "# normalization \n",
    "x = (x_data - np.min(x_data))/(np.max(x_data)-np.min(x_data))"
   ]
  },
  {
   "cell_type": "markdown",
   "metadata": {},
   "source": [
    "### 4. Split your data into train and test subsets using `train_test_split()` (30% for testing)"
   ]
  },
  {
   "cell_type": "code",
   "execution_count": null,
   "metadata": {
    "_uuid": "4395f1bf11ade326210c1c263c372f890e2c4336",
    "jupyter": {
     "outputs_hidden": true
    }
   },
   "outputs": [],
   "source": [
    "# Your code here"
   ]
  },
  {
   "cell_type": "markdown",
   "metadata": {},
   "source": [
    "### 5. KNeighborsClassifier model\n",
    "    a. Comment the code below\n",
    "- Input:\n",
    "```python\n",
    "# knn model\n",
    ">>> from sklearn.neighbors import KNeighborsClassifier\n",
    ">>> knn = KNeighborsClassifier(n_neighbors = 3) # n_neighbors = k\n",
    ">>> knn.fit(x_train,y_train)\n",
    ">>> prediction = knn.predict(x_test)\n",
    ">>> print(\" {} nn score: {} \".format(3,knn.score(x_test,y_test)))\n",
    "```\n",
    "> Your answer here\n",
    "\n",
    "    b. Use the previous code to find the best k value\n",
    "    \n",
    "        - Expected ouput:\n",
    "![kvalue](../data/kvalues.png)\n",
    "    \n",
    "    c. Use the best k value and compute the score\n",
    "        - Expected ouput:\n",
    "\n",
    "```python\n",
    ">>>  3 nn score: 0.9649122807017544 \n",
    "```"
   ]
  },
  {
   "cell_type": "code",
   "execution_count": null,
   "metadata": {},
   "outputs": [],
   "source": [
    "# Your code here"
   ]
  },
  {
   "cell_type": "markdown",
   "metadata": {
    "_uuid": "784358fdd25cf9021e871d24b44ddab686e38ce2",
    "collapsed": true,
    "jupyter": {
     "outputs_hidden": true
    }
   },
   "source": [
    "### Plot the confusion matrix\n",
    "\n",
    "- Expected output:\n",
    "![matrix](../data/confusion-matrix.png)"
   ]
  },
  {
   "cell_type": "code",
   "execution_count": null,
   "metadata": {},
   "outputs": [],
   "source": [
    "# Your code here"
   ]
  },
  {
   "cell_type": "markdown",
   "metadata": {
    "_uuid": "ef15904c6e89f8ed174fd3c9449742986fdccde9"
   },
   "source": [
    "\n",
    "<a class=\"anchor\" id=\"4.\"></a> \n",
    "# Support Vector Machine (SVM) Classification"
   ]
  },
  {
   "cell_type": "markdown",
   "metadata": {},
   "source": [
    "### 1. Comment the code below\n",
    "> Your answer here"
   ]
  },
  {
   "cell_type": "code",
   "execution_count": null,
   "metadata": {
    "_uuid": "5e6d3464134cc34ddf92fbcb8b0161b2c2c37d50",
    "code_folding": [],
    "jupyter": {
     "outputs_hidden": true
    }
   },
   "outputs": [],
   "source": [
    "data.diagnosis = [1 if each == \"M\" else 0 for each in data.diagnosis]\n",
    "y = data.diagnosis.values\n",
    "x_data = data.drop([\"diagnosis\"],axis=1)\n",
    "# %%\n",
    "# normalization \n",
    "x = (x_data - np.min(x_data))/(np.max(x_data)-np.min(x_data))"
   ]
  },
  {
   "cell_type": "markdown",
   "metadata": {},
   "source": [
    "### 2.  Use the same splitted data as before and use SVC model to compyte the new score\n",
    "\n",
    "- Expected output:\n",
    "```python\n",
    ">>> print accuracy of svm algo:  0.9649122807017544\n",
    "```"
   ]
  },
  {
   "cell_type": "code",
   "execution_count": null,
   "metadata": {},
   "outputs": [],
   "source": [
    "# Your code here"
   ]
  },
  {
   "cell_type": "markdown",
   "metadata": {
    "_uuid": "33a98c07e6d110a797f25912e0a6eb23ab2e4ff0",
    "collapsed": true,
    "jupyter": {
     "outputs_hidden": true
    }
   },
   "source": [
    "### 3. Plot the confusion matrix\n",
    "- Expected output:\n",
    "\n",
    "![confusion-matrix](../data/confusion-matrix-svm.png)"
   ]
  },
  {
   "cell_type": "code",
   "execution_count": null,
   "metadata": {},
   "outputs": [],
   "source": [
    "# Your code here"
   ]
  },
  {
   "cell_type": "markdown",
   "metadata": {
    "_uuid": "ea721f4e2c16e11f55a10928efc310d7a943fe8b"
   },
   "source": [
    "# Clustering\n",
    "<a class=\"anchor\" id=\"5.\"></a> \n",
    "# K-Means Clustering"
   ]
  },
  {
   "cell_type": "code",
   "execution_count": null,
   "metadata": {
    "_uuid": "a9e2daf47111b65cfbf86cf79320e111a772aeca",
    "jupyter": {
     "outputs_hidden": true
    }
   },
   "outputs": [],
   "source": [
    "import numpy as np\n",
    "import pandas as pd\n",
    "import matplotlib.pyplot as plt\n",
    "\n",
    "# %% create dataset\n",
    "# class1\n",
    "x1 = np.random.normal(25,5,1000)\n",
    "y1 = np.random.normal(25,5,1000)\n",
    "\n",
    "# class2\n",
    "x2 = np.random.normal(55,5,1000)\n",
    "y2 = np.random.normal(60,5,1000)\n",
    "\n",
    "# class3\n",
    "x3 = np.random.normal(55,5,1000)\n",
    "y3 = np.random.normal(15,5,1000)"
   ]
  },
  {
   "cell_type": "markdown",
   "metadata": {},
   "source": [
    "### 1. Concatenating arrays:\n",
    "    - x1, x2, x3 to create x array\n",
    "    - y1, y2, y3 to create y array"
   ]
  },
  {
   "cell_type": "code",
   "execution_count": null,
   "metadata": {},
   "outputs": [],
   "source": [
    "# Your code here"
   ]
  },
  {
   "cell_type": "markdown",
   "metadata": {},
   "source": [
    "### 2. Create new dataframe using x and y arrays\n",
    "\n",
    "- Expected output:\n",
    "```python\n",
    ">>>           x          y\n",
    ">>> 0  31.156168  31.733629\n",
    ">>> 1  23.429376  35.245182\n",
    ">>> 2  18.648253  28.094688\n",
    ">>> 3  31.002996  18.067875\n",
    ">>> 4  20.030422  26.872852\n",
    "```"
   ]
  },
  {
   "cell_type": "code",
   "execution_count": null,
   "metadata": {},
   "outputs": [],
   "source": [
    "# Your code here"
   ]
  },
  {
   "cell_type": "markdown",
   "metadata": {},
   "source": [
    "### 3. Plot the data\n",
    "\n",
    "- Expected output:\n",
    "\n",
    "![kmeans](../data/kmeans-assignment1.png)"
   ]
  },
  {
   "cell_type": "code",
   "execution_count": null,
   "metadata": {},
   "outputs": [],
   "source": [
    "# Your code here"
   ]
  },
  {
   "cell_type": "markdown",
   "metadata": {},
   "source": [
    "### 4. Using KMeans compute the WCSS for k=1,...k=15 and plot the it\n",
    "- Expected output:\n",
    "\n",
    "![kmeans](../data/kmeans-assignment2.png)    "
   ]
  },
  {
   "cell_type": "code",
   "execution_count": null,
   "metadata": {},
   "outputs": [],
   "source": [
    "# Your code here"
   ]
  },
  {
   "cell_type": "markdown",
   "metadata": {},
   "source": [
    "### 5. Using k=3 predict the data clusters\n",
    "- Expected output:\n",
    "![kmeans](../data/kmeans-assignment3.png)    "
   ]
  },
  {
   "cell_type": "code",
   "execution_count": null,
   "metadata": {},
   "outputs": [],
   "source": [
    "# Your code here"
   ]
  },
  {
   "cell_type": "markdown",
   "metadata": {
    "_uuid": "e73c6fbfda2d49616426d8b0640ae631fe0183ee"
   },
   "source": [
    "\n",
    "<a class=\"anchor\" id=\"6.\"></a> \n",
    "# Principal Component Analysis (PCA)"
   ]
  },
  {
   "cell_type": "code",
   "execution_count": null,
   "metadata": {
    "_uuid": "ad15a3b65cd66ea5196469ba1731ccd2840d11a6",
    "jupyter": {
     "outputs_hidden": true
    }
   },
   "outputs": [
    {
     "name": "stdout",
     "output_type": "stream",
     "text": [
      "<class 'pandas.core.frame.DataFrame'>\n",
      "RangeIndex: 150 entries, 0 to 149\n",
      "Data columns (total 5 columns):\n",
      " #   Column             Non-Null Count  Dtype  \n",
      "---  ------             --------------  -----  \n",
      " 0   sepal length (cm)  150 non-null    float64\n",
      " 1   sepal width (cm)   150 non-null    float64\n",
      " 2   petal length (cm)  150 non-null    float64\n",
      " 3   petal width (cm)   150 non-null    float64\n",
      " 4   sinif              150 non-null    int64  \n",
      "dtypes: float64(4), int64(1)\n",
      "memory usage: 6.0 KB\n",
      "None\n",
      "   sepal length (cm)  sepal width (cm)  petal length (cm)  petal width (cm)  \\\n",
      "0                5.1               3.5                1.4               0.2   \n",
      "1                4.9               3.0                1.4               0.2   \n",
      "2                4.7               3.2                1.3               0.2   \n",
      "3                4.6               3.1                1.5               0.2   \n",
      "4                5.0               3.6                1.4               0.2   \n",
      "\n",
      "   sinif  \n",
      "0      0  \n",
      "1      0  \n",
      "2      0  \n",
      "3      0  \n",
      "4      0  \n"
     ]
    }
   ],
   "source": [
    "from sklearn.datasets import load_iris\n",
    "import pandas as pd\n",
    "# %%\n",
    "iris = load_iris()\n",
    "\n",
    "feature_names = iris.feature_names\n",
    "y = iris.target\n",
    "\n",
    "data = pd.DataFrame(iris.data,columns = feature_names)\n",
    "data[\"sinif\"] = y\n",
    "\n",
    "x = iris.data\n",
    "print(data.info())\n",
    "print(data.head())\n",
    "#print(data.describe())"
   ]
  },
  {
   "cell_type": "code",
   "execution_count": null,
   "metadata": {
    "_uuid": "fc2602f17179998d2bc471dd943620942394088c",
    "jupyter": {
     "outputs_hidden": true
    }
   },
   "outputs": [
    {
     "name": "stdout",
     "output_type": "stream",
     "text": [
      "variance ratio:  [0.92461872 0.05306648]\n",
      "sum:  0.9776852063187949\n"
     ]
    }
   ],
   "source": [
    "#%% PCA\n",
    "from sklearn.decomposition import PCA\n",
    "pca = PCA(n_components = 2, whiten= True )  # whitten = normalize\n",
    "pca.fit(x)\n",
    "\n",
    "x_pca = pca.transform(x)\n",
    "\n",
    "print(\"variance ratio: \", pca.explained_variance_ratio_)\n",
    "print(\"sum: \",sum(pca.explained_variance_ratio_))"
   ]
  },
  {
   "cell_type": "code",
   "execution_count": null,
   "metadata": {
    "_uuid": "a11db65273a789f84efa2c955cefaffafb1d8c64",
    "jupyter": {
     "outputs_hidden": true
    }
   },
   "outputs": [
    {
     "data": {
      "image/png": "[encoded data removed]",
      "text/plain": [
       "<Figure size 432x288 with 1 Axes>"
      ]
     },
     "metadata": {
      "needs_background": "light"
     },
     "output_type": "display_data"
    }
   ],
   "source": [
    "#%% 2D\n",
    "data[\"p1\"] = x_pca[:,0]\n",
    "data[\"p2\"] = x_pca[:,1]\n",
    "\n",
    "color = [\"red\",\"green\",\"blue\"]\n",
    "\n",
    "import matplotlib.pyplot as plt\n",
    "for each in range(3):\n",
    "    plt.scatter(data.p1[data.sinif == each],data.p2[data.sinif == each],color = color[each],label = iris.target_names[each])\n",
    "    \n",
    "plt.legend()\n",
    "plt.xlabel(\"p1\")\n",
    "plt.ylabel(\"p2\")\n",
    "plt.savefig(\"../data/pca.png\")\n",
    "\n",
    "plt.show()"
   ]
  }
 ],
 "metadata": {
  "hide_input": false,
  "kernelspec": {
   "display_name": "Python 3 (ipykernel)",
   "language": "python",
   "name": "python3"
  },
  "language_info": {
   "codemirror_mode": {
    "name": "ipython",
    "version": 3
   },
   "file_extension": ".py",
   "mimetype": "text/x-python",
   "name": "python",
   "nbconvert_exporter": "python",
   "pygments_lexer": "ipython3",
   "version": "3.9.5"
  }
 },
 "nbformat": 4,
 "nbformat_minor": 4
}
