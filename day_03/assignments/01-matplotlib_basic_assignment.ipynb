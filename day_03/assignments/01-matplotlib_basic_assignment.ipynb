{
 "cells": [
  {
   "cell_type": "markdown",
   "metadata": {},
   "source": [
    "# Matplotlib exercices"
   ]
  },
  {
   "cell_type": "markdown",
   "metadata": {},
   "source": [
    "In this exercise, we are using Pandas and Matplotlib to visualize Company Sales Data. The data is located under the folder `../data/company_sales_data.csv`.\n",
    "\n",
    "![company_sales_data](../data/company_sales_data.webp)"
   ]
  },
  {
   "cell_type": "markdown",
   "metadata": {},
   "source": [
    "## Exercise 1\n",
    "**Read Total profit of all months and show it using a line plot**\n",
    "\n",
    "Total profit data provided for each month. Generated line plot must include the following properties:\n",
    "- X label name = Month Number\n",
    "- Y label name = Total profit\n",
    "The line plot graph should look like this.\n",
    "\n",
    "**Expected output**\n",
    "\n",
    "<img src=\"../data/Company_profit_per_month.png\" alt=\"Company_profit_per_month\" style=\"width: 500px;\"/>\n"
   ]
  },
  {
   "cell_type": "code",
   "execution_count": 1,
   "metadata": {},
   "outputs": [
    {
     "data": {
      "image/png": "[encoded data removed]",
      "text/plain": [
       "<Figure size 432x288 with 1 Axes>"
      ]
     },
     "metadata": {
      "needs_background": "light"
     },
     "output_type": "display_data"
    }
   ],
   "source": [
    "import pandas as pd\n",
    "import matplotlib.pyplot as plt\n",
    "import numpy as np\n",
    "df=pd.read_csv(\"../data/company_sales_data.csv\")\n",
    "df\n",
    "plt.title(\"company profit per month\")\n",
    "monthList = df ['month_number'].tolist()\n",
    "plt.plot(df['month_number'].values,df['total_profit'].values)\n",
    "plt.xticks(monthList)\n",
    "plt.yticks([100000, 200000, 300000, 400000, 500000])\n",
    "plt.ylabel('Total profit The line plot graph should look like this')\n",
    "plt.xlabel('Month Number')\n",
    "plt.show()"
   ]
  },
  {
   "cell_type": "markdown",
   "metadata": {},
   "source": [
    "## Exercise 2\n",
    "**Get total profit of all months and show line plot with the following Style properties**\n",
    "- Line Style dotted and Line-color should be red\n",
    "- Show legend at the lower right location.\n",
    "- X label name = Month Number\n",
    "- Y label name = Sold units number\n",
    "- Add a circle marker.\n",
    "- Line marker color as read\n",
    "- Line width should be 3\n",
    "\n",
    "**Expected output**\n",
    "\n",
    "<img src=\"../data/company_sales_data_of_last_year.png\" alt=\"company_sales_data_of_last_year\" style=\"width: 700px;\"/>\n"
   ]
  },
  {
   "cell_type": "code",
   "execution_count": null,
   "metadata": {},
   "outputs": [],
   "source": [
    "df=pd.read_csv(\"../data/company_sales_data.csv\")\n",
    "df\n",
    "plt.title(\"company sales data of last year\")\n",
    "plt.plot(df['month_number'],df['total_profit'], \"r--\",marker='o', markerfacecolor='k',label=\"Profit data of last year\")\n",
    "plt.yticks([100000, 200000, 300000, 400000, 500000])\n",
    "monthList=df['month_number'].tolist()\n",
    "plt.xticks(monthList)\n",
    "plt.ylabel('Sold units number')\n",
    "plt.xlabel('Month Number')\n",
    "plt.legend(loc=\"lower right\")\n",
    "plt.show()"
   ]
  },
  {
   "cell_type": "markdown",
   "metadata": {},
   "source": [
    "## Exercise 3\n",
    "**Read all product sales data and show it  using a multiline plot**\n",
    "Display the number of units sold per month for each product using multiline plots. (i.e., Separate Plotline for each product ).\n",
    "**Expected output**\n",
    "\n",
    "<img src=\"../data/sales_data.png\" alt=\"sales_data\" style=\"width: 500px;\"/>\n"
   ]
  },
  {
   "cell_type": "code",
   "execution_count": null,
   "metadata": {
    "scrolled": true
   },
   "outputs": [],
   "source": [
    "x=df['facecream']\n",
    "y=df['facewash']\n",
    "z=df['toothpaste']\n",
    "a=df['bathingsoap']\n",
    "b=df['shampoo']\n",
    "c=df['moisturizer']\n",
    "plt.xticks(monthList)\n",
    "plt.yticks([1000,2000,4000,6000,8000,10000,12000,15000,18000])\n",
    "plt.plot(monthList,x,marker='o',markersize =4,label='face cream sales of data')\n",
    "plt.plot(monthList,y,marker='o',markersize =4,label='face wash sales of data')\n",
    "plt.plot(monthList,z,marker='o',markersize =4,label='tooth paste sales of data')\n",
    "plt.plot(monthList,a,marker='o',markersize =4,label='bathing soap sales of data')\n",
    "plt.plot(monthList,b,marker='o',markersize =4,label='shapoo sales of data')\n",
    "plt.plot(monthList,c,marker='o',markersize =4,label='moisturizer sales of data')\n",
    "plt.legend(fontsize=5)\n",
    "plt.xlabel('months number')\n",
    "plt.ylabel('sales data in number')\n",
    "plt.title('sales')\n",
    "plt.show()\n"
   ]
  },
  {
   "cell_type": "markdown",
   "metadata": {},
   "source": [
    "## Exercise 4\n",
    "**Read toothpaste sales data of each month and show it using a scatter plot**\n",
    "Also, add a grid in the plot. gridline style should “–“.\n",
    "\n",
    "**Expected output**\n",
    "\n",
    "<img src=\"../data/Tooth_paste_Sales_data.png\" alt=\"sales_data\" style=\"width: 700px;\"/>\n"
   ]
  },
  {
   "cell_type": "code",
   "execution_count": null,
   "metadata": {
    "scrolled": true
   },
   "outputs": [],
   "source": [
    "plt.scatter(monthList,df['toothpaste'],label='tooth paste sales data',s=16)\n",
    "plt.grid(linestyle='--')\n",
    "plt.legend(fontsize=7)\n",
    "plt.xticks(monthList)\n",
    "plt.xlabel('months number',size=9)\n",
    "plt.ylabel('number of units sold',size=9)\n",
    "plt.title('tooth paste sales data')\n",
    "plt.show()\n"
   ]
  },
  {
   "cell_type": "markdown",
   "metadata": {},
   "source": [
    "## Exercise 5\n",
    "**Read face cream and facewash product sales data and show it using the bar chart**\n",
    "The bar chart should display the number of units sold per month for each product. Add a separate bar for each product in the same chart.\n",
    "\n",
    "**Expected output**\n",
    "\n",
    "<img src=\"../data/Facewash_and_facecream_sales_data.png\" alt=\"sales_data\" style=\"width: 700px;\"/>\n"
   ]
  },
  {
   "cell_type": "code",
   "execution_count": 1,
   "metadata": {
    "scrolled": true
   },
   "outputs": [
    {
     "ename": "NameError",
     "evalue": "name 'plt' is not defined",
     "output_type": "error",
     "traceback": [
      "\u001b[1;31m---------------------------------------------------------------------------\u001b[0m",
      "\u001b[1;31mNameError\u001b[0m                                 Traceback (most recent call last)",
      "\u001b[1;32m~\\AppData\\Local\\Temp/ipykernel_13756/1032679774.py\u001b[0m in \u001b[0;36m<module>\u001b[1;34m\u001b[0m\n\u001b[1;32m----> 1\u001b[1;33m \u001b[0mplt\u001b[0m\u001b[1;33m.\u001b[0m\u001b[0mhist\u001b[0m\u001b[1;33m(\u001b[0m\u001b[1;33m[\u001b[0m\u001b[0mdf\u001b[0m\u001b[1;33m[\u001b[0m\u001b[1;34m'facecream'\u001b[0m\u001b[1;33m]\u001b[0m\u001b[1;33m,\u001b[0m\u001b[0mdf\u001b[0m\u001b[1;33m[\u001b[0m\u001b[1;34m'facewash'\u001b[0m\u001b[1;33m]\u001b[0m \u001b[1;33m]\u001b[0m\u001b[1;33m,\u001b[0m\u001b[0mbins\u001b[0m\u001b[1;33m=\u001b[0m\u001b[0mmonthList\u001b[0m\u001b[1;33m,\u001b[0m \u001b[0mlabel\u001b[0m\u001b[1;33m=\u001b[0m\u001b[1;33m[\u001b[0m\u001b[1;34m'face cream sales data'\u001b[0m\u001b[1;33m,\u001b[0m \u001b[1;34m'face wash sales data'\u001b[0m\u001b[1;33m]\u001b[0m\u001b[1;33m)\u001b[0m\u001b[1;33m\u001b[0m\u001b[1;33m\u001b[0m\u001b[0m\n\u001b[0m\u001b[0;32m      2\u001b[0m \u001b[0mplt\u001b[0m\u001b[1;33m.\u001b[0m\u001b[0mxticks\u001b[0m\u001b[1;33m(\u001b[0m\u001b[0mmonthList\u001b[0m\u001b[1;33m)\u001b[0m\u001b[1;33m\u001b[0m\u001b[1;33m\u001b[0m\u001b[0m\n\u001b[0;32m      3\u001b[0m \u001b[0mplt\u001b[0m\u001b[1;33m.\u001b[0m\u001b[0myticks\u001b[0m\u001b[1;33m(\u001b[0m\u001b[1;33m[\u001b[0m\u001b[1;36m0\u001b[0m\u001b[1;33m,\u001b[0m\u001b[1;36m500\u001b[0m\u001b[1;33m,\u001b[0m\u001b[1;36m1000\u001b[0m\u001b[1;33m,\u001b[0m\u001b[1;36m1500\u001b[0m\u001b[1;33m,\u001b[0m\u001b[1;36m2000\u001b[0m\u001b[1;33m,\u001b[0m\u001b[1;36m2500\u001b[0m\u001b[1;33m,\u001b[0m\u001b[1;36m3000\u001b[0m\u001b[1;33m,\u001b[0m\u001b[1;36m3500\u001b[0m\u001b[1;33m]\u001b[0m\u001b[1;33m)\u001b[0m\u001b[1;33m\u001b[0m\u001b[1;33m\u001b[0m\u001b[0m\n\u001b[0;32m      4\u001b[0m \u001b[0mplt\u001b[0m\u001b[1;33m.\u001b[0m\u001b[0mxlabel\u001b[0m\u001b[1;33m(\u001b[0m\u001b[1;34m'months number'\u001b[0m\u001b[1;33m,\u001b[0m\u001b[0msize\u001b[0m\u001b[1;33m=\u001b[0m\u001b[1;36m9\u001b[0m\u001b[1;33m)\u001b[0m\u001b[1;33m\u001b[0m\u001b[1;33m\u001b[0m\u001b[0m\n\u001b[0;32m      5\u001b[0m \u001b[0mplt\u001b[0m\u001b[1;33m.\u001b[0m\u001b[0mylabel\u001b[0m\u001b[1;33m(\u001b[0m\u001b[1;34m'sales units in number'\u001b[0m\u001b[1;33m,\u001b[0m\u001b[0msize\u001b[0m\u001b[1;33m=\u001b[0m\u001b[1;36m9\u001b[0m\u001b[1;33m)\u001b[0m\u001b[1;33m\u001b[0m\u001b[1;33m\u001b[0m\u001b[0m\n",
      "\u001b[1;31mNameError\u001b[0m: name 'plt' is not defined"
     ]
    }
   ],
   "source": [
    "plt.hist([df['facecream'],df['facewash'] ],bins=monthList, label=['face cream sales data', 'face wash sales data'])\n",
    "plt.xticks(monthList)\n",
    "plt.yticks([0,500,1000,1500,2000,2500,3000,3500])\n",
    "plt.xlabel('months number',size=9)\n",
    "plt.ylabel('sales units in number',size=9)\n",
    "plt.title('face wash and face cream sales data')\n",
    "plt.grid(linestyle='--')\n",
    "plt.legend(loc='upper left')\n",
    "plt.show()"
   ]
  },
  {
   "cell_type": "markdown",
   "metadata": {},
   "source": []
  },
  {
   "cell_type": "markdown",
   "metadata": {},
   "source": [
    "## Exercise 6\n",
    "**Read sales data of bathing soap of all months and show it using a bar chart. Save this plot to your hard disk**\n",
    "\n",
    "**Expected output**\n",
    "\n",
    "<img src=\"../data/sales_data_of_bathingsoap.png\" alt=\"sales_data_of_bathingsoap\" style=\"width: 700px;\"/>\n"
   ]
  },
  {
   "cell_type": "code",
   "execution_count": null,
   "metadata": {
    "scrolled": true
   },
   "outputs": [],
   "source": [
    "# write your code here"
   ]
  },
  {
   "cell_type": "markdown",
   "metadata": {},
   "source": [
    "## Exercise 7\n",
    "**Read the total profit of each month and show it using the histogram to see the most common profit ranges**\n",
    "\n",
    "**Expected output**\n",
    "\n",
    "<img src=\"../data/Profit_data.png\" alt=\"Profit_data\" style=\"width: 700px;\"/>\n"
   ]
  },
  {
   "cell_type": "code",
   "execution_count": null,
   "metadata": {
    "scrolled": true
   },
   "outputs": [],
   "source": [
    "plt.yticks([1,2,3,4,5])\n",
    "plt.hist(df[\"total_profit\"], bins=[150000, 175000, 200000, 225000,250000, 300000,350000])\n",
    "\n"
   ]
  },
  {
   "cell_type": "markdown",
   "metadata": {},
   "source": [
    "## Exercise 8\n",
    "**Calculate total sale data for last year for each product and show it using a Pie chart**\n",
    "\n",
    "*Note: In Pie chart display Number of units sold per year for each product in percentage.*\n",
    "\n",
    "**Expected output**\n",
    "\n",
    "<img src=\"../data/sales_data_pi_chart.png\" alt=\"sales_data_pi_chart\" style=\"width: 700px;\"/>\n"
   ]
  },
  {
   "cell_type": "code",
   "execution_count": null,
   "metadata": {
    "scrolled": true
   },
   "outputs": [],
   "source": [
    "# write your code here"
   ]
  },
  {
   "cell_type": "markdown",
   "metadata": {},
   "source": [
    "## Exercise 9\n",
    "**Read Bathing soap facewash of all months and display it using the Subplot**\n",
    "\n",
    "**Expected output**\n",
    "\n",
    "<img src=\"../data/Sales_data_of_a_facewash.png\" alt=\"Sales_data_of_a_facewash\" style=\"width: 700px;\"/>\n"
   ]
  },
  {
   "cell_type": "code",
   "execution_count": null,
   "metadata": {
    "scrolled": true
   },
   "outputs": [],
   "source": [
    "# write your code here"
   ]
  },
  {
   "cell_type": "markdown",
   "metadata": {},
   "source": [
    "## Exercise 10\n",
    "**Read all product sales data and show it using the stack plot**\n",
    "\n",
    "**Expected output**\n",
    "\n",
    "<img src=\"../data/product_sales_stack_plot.png\" alt=\"product_sales_stack_plot\" style=\"width: 700px;\"/>\n"
   ]
  },
  {
   "cell_type": "code",
   "execution_count": null,
   "metadata": {
    "scrolled": true
   },
   "outputs": [],
   "source": [
    "# write your code here"
   ]
  }
 ],
 "metadata": {
  "hide_input": false,
  "kernelspec": {
   "display_name": "Python 3 (ipykernel)",
   "language": "python",
   "name": "python3"
  },
  "language_info": {
   "codemirror_mode": {
    "name": "ipython",
    "version": 3
   },
   "file_extension": ".py",
   "mimetype": "text/x-python",
   "name": "python",
   "nbconvert_exporter": "python",
   "pygments_lexer": "ipython3",
   "version": "3.9.5"
  }
 },
 "nbformat": 4,
 "nbformat_minor": 4
}
