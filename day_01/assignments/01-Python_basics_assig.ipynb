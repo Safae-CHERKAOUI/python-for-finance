{
 "cells": [
  {
   "cell_type": "markdown",
   "metadata": {},
   "source": [
    "# Python Basic exercises"
   ]
  },
  {
   "cell_type": "markdown",
   "metadata": {},
   "source": [
    "## Exercice 1:\n",
    "\n",
    "Create a program that take a name from a user and print hello with the name of the user.\n",
    "\n",
    "Example:\n",
    "- input:\n",
    "\n",
    "```python\n",
    ">>> Hamid\n",
    "```\n",
    "- Desired output:\n",
    "\n",
    "```python\n",
    ">>> Hello Hamid\n",
    "```\n"
   ]
  },
  {
   "cell_type": "code",
   "execution_count": 1,
   "metadata": {},
   "outputs": [
    {
     "name": "stdout",
     "output_type": "stream",
     "text": [
      "hello safae\n"
     ]
    }
   ],
   "source": [
    "name = str(input(\"Enter your name \"))\n",
    "print(\"hello\", name)"
   ]
  },
  {
   "cell_type": "markdown",
   "metadata": {},
   "source": [
    "## Exercise 2:\n",
    "\n",
    "Write a program that take a string from a user, and print the string with capitalize the vowels letters {a, o, u, i, e}.\n",
    "\n",
    "Example:\n",
    "- Input:\n",
    "\n",
    "```python\n",
    ">>> hello world\n",
    "```\n",
    "\n",
    "- Desired output:\n",
    "\n",
    "```python\n",
    ">>> hEllO wOrld\n",
    "```"
   ]
  },
  {
   "cell_type": "code",
   "execution_count": 2,
   "metadata": {},
   "outputs": [
    {
     "name": "stdout",
     "output_type": "stream",
     "text": [
      "Enter the String: \n",
      "\n",
      "String with capitilize Vowels: \n",
      " sAfAE\n"
     ]
    }
   ],
   "source": [
    "print(\"Enter the String: \")\n",
    "text = input()\n",
    "\n",
    "vowels = ['a', 'e', 'i', 'o', 'u']\n",
    "new_text = \" \"\n",
    "\n",
    "for i in range(len(text)):\n",
    "    if text[i] in vowels:\n",
    "        new_text = new_text + text[i].capitalize()\n",
    "    else: \n",
    "        new_text = new_text + text[i]\n",
    "print(\"\\nString with capitilize Vowels: \")\n",
    "text = new_text\n",
    "print(text)"
   ]
  },
  {
   "cell_type": "markdown",
   "metadata": {},
   "source": [
    "## Exercise 3:\n",
    "\n",
    "Create a program that take a two numbers from a user and print their sum and multiplication.\n",
    "Example:\n",
    "\n",
    "- Input:\n",
    "```python\n",
    ">>> 3\n",
    ">>> 4\n",
    "```\n",
    "- Desired output:\n",
    "```python\n",
    ">>> multiplication of 3 and 4 is 12\n",
    ">>> sum of 3 and 4 is 7\n",
    "```\n"
   ]
  },
  {
   "cell_type": "code",
   "execution_count": 3,
   "metadata": {},
   "outputs": [
    {
     "name": "stdout",
     "output_type": "stream",
     "text": [
      "multiplication of 3.0 and 4.0 is 12.0\n",
      "sum of 3.0 and 4.0 is 7.0\n"
     ]
    }
   ],
   "source": [
    "x=float(input())\n",
    "y=float(input())\n",
    "a=x+y\n",
    "b=x*y\n",
    "print('multiplication of',x,'and',y,'is',b)\n",
    "print('sum of',x,'and',y,'is',a)"
   ]
  },
  {
   "cell_type": "markdown",
   "metadata": {},
   "source": [
    "## Exercise 4: \n",
    "\n",
    "Display three string “Name”, “Is”, “James” as “Name**Is**James”\n",
    "\n",
    "Use the `print()` function to format the given words in the mentioned format. Display the ** separator between each string.\n",
    "\n",
    "- Desired Output:\n",
    "```python\n",
    ">>> print('Name', 'Is', 'James') will display Name**Is**James\n",
    "```"
   ]
  },
  {
   "cell_type": "code",
   "execution_count": 4,
   "metadata": {},
   "outputs": [
    {
     "name": "stdout",
     "output_type": "stream",
     "text": [
      "safaecherkaouimaster\n",
      "safae**cherkaoui**master\n"
     ]
    }
   ],
   "source": [
    "#concatening words without space \n",
    "x=input()\n",
    "y=input()\n",
    "z=input()\n",
    "print(x.strip()+y.strip()+z.strip())\n",
    "\n",
    "#concatening wordds using **\n",
    "print(x,y,z, sep='**')"
   ]
  },
  {
   "cell_type": "code",
   "execution_count": 5,
   "metadata": {},
   "outputs": [
    {
     "ename": "FileNotFoundError",
     "evalue": "[Errno 2] No such file or directory: '../../styles/custom.css'",
     "output_type": "error",
     "traceback": [
      "\u001b[1;31m---------------------------------------------------------------------------\u001b[0m",
      "\u001b[1;31mFileNotFoundError\u001b[0m                         Traceback (most recent call last)",
      "\u001b[1;32m~\\AppData\\Local\\Temp/ipykernel_22836/2081111584.py\u001b[0m in \u001b[0;36m<module>\u001b[1;34m\u001b[0m\n\u001b[0;32m      4\u001b[0m     \u001b[0mstyles\u001b[0m \u001b[1;33m=\u001b[0m \u001b[0mopen\u001b[0m\u001b[1;33m(\u001b[0m\u001b[1;34m\"../../styles/custom.css\"\u001b[0m\u001b[1;33m,\u001b[0m \u001b[1;34m\"r\"\u001b[0m\u001b[1;33m)\u001b[0m\u001b[1;33m.\u001b[0m\u001b[0mread\u001b[0m\u001b[1;33m(\u001b[0m\u001b[1;33m)\u001b[0m\u001b[1;33m\u001b[0m\u001b[1;33m\u001b[0m\u001b[0m\n\u001b[0;32m      5\u001b[0m     \u001b[1;32mreturn\u001b[0m \u001b[0mHTML\u001b[0m\u001b[1;33m(\u001b[0m\u001b[0mstyles\u001b[0m\u001b[1;33m)\u001b[0m\u001b[1;33m\u001b[0m\u001b[1;33m\u001b[0m\u001b[0m\n\u001b[1;32m----> 6\u001b[1;33m \u001b[0mcss_styling\u001b[0m\u001b[1;33m(\u001b[0m\u001b[1;33m)\u001b[0m\u001b[1;33m\u001b[0m\u001b[1;33m\u001b[0m\u001b[0m\n\u001b[0m",
      "\u001b[1;32m~\\AppData\\Local\\Temp/ipykernel_22836/2081111584.py\u001b[0m in \u001b[0;36mcss_styling\u001b[1;34m()\u001b[0m\n\u001b[0;32m      2\u001b[0m \u001b[1;32mfrom\u001b[0m \u001b[0mIPython\u001b[0m\u001b[1;33m.\u001b[0m\u001b[0mcore\u001b[0m\u001b[1;33m.\u001b[0m\u001b[0mdisplay\u001b[0m \u001b[1;32mimport\u001b[0m \u001b[0mHTML\u001b[0m\u001b[1;33m\u001b[0m\u001b[1;33m\u001b[0m\u001b[0m\n\u001b[0;32m      3\u001b[0m \u001b[1;32mdef\u001b[0m \u001b[0mcss_styling\u001b[0m\u001b[1;33m(\u001b[0m\u001b[1;33m)\u001b[0m\u001b[1;33m:\u001b[0m\u001b[1;33m\u001b[0m\u001b[1;33m\u001b[0m\u001b[0m\n\u001b[1;32m----> 4\u001b[1;33m     \u001b[0mstyles\u001b[0m \u001b[1;33m=\u001b[0m \u001b[0mopen\u001b[0m\u001b[1;33m(\u001b[0m\u001b[1;34m\"../../styles/custom.css\"\u001b[0m\u001b[1;33m,\u001b[0m \u001b[1;34m\"r\"\u001b[0m\u001b[1;33m)\u001b[0m\u001b[1;33m.\u001b[0m\u001b[0mread\u001b[0m\u001b[1;33m(\u001b[0m\u001b[1;33m)\u001b[0m\u001b[1;33m\u001b[0m\u001b[1;33m\u001b[0m\u001b[0m\n\u001b[0m\u001b[0;32m      5\u001b[0m     \u001b[1;32mreturn\u001b[0m \u001b[0mHTML\u001b[0m\u001b[1;33m(\u001b[0m\u001b[0mstyles\u001b[0m\u001b[1;33m)\u001b[0m\u001b[1;33m\u001b[0m\u001b[1;33m\u001b[0m\u001b[0m\n\u001b[0;32m      6\u001b[0m \u001b[0mcss_styling\u001b[0m\u001b[1;33m(\u001b[0m\u001b[1;33m)\u001b[0m\u001b[1;33m\u001b[0m\u001b[1;33m\u001b[0m\u001b[0m\n",
      "\u001b[1;31mFileNotFoundError\u001b[0m: [Errno 2] No such file or directory: '../../styles/custom.css'"
     ]
    }
   ],
   "source": [
    "# css style\n",
    "from IPython.core.display import HTML\n",
    "def css_styling():\n",
    "    styles = open(\"../../styles/custom.css\", \"r\").read()\n",
    "    return HTML(styles)\n",
    "css_styling()"
   ]
  }
 ],
 "metadata": {
  "hide_input": false,
  "kernelspec": {
   "display_name": "Python 3",
   "language": "python",
   "name": "python3"
  },
  "language_info": {
   "codemirror_mode": {
    "name": "ipython",
    "version": 3
   },
   "file_extension": ".py",
   "mimetype": "text/x-python",
   "name": "python",
   "nbconvert_exporter": "python",
   "pygments_lexer": "ipython3",
   "version": "3.9.5"
  }
 },
 "nbformat": 4,
 "nbformat_minor": 5
}
